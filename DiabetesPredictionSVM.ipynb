{
  "nbformat": 4,
  "nbformat_minor": 0,
  "metadata": {
    "colab": {
      "provenance": [],
      "authorship_tag": "ABX9TyOrXmIa1jIndbMVjJHF8pVW",
      "include_colab_link": true
    },
    "kernelspec": {
      "name": "python3",
      "display_name": "Python 3"
    },
    "language_info": {
      "name": "python"
    }
  },
  "cells": [
    {
      "cell_type": "markdown",
      "metadata": {
        "id": "view-in-github",
        "colab_type": "text"
      },
      "source": [
        "<a href=\"https://colab.research.google.com/github/avnishcodes/DiabetesPredictionSVM/blob/main/DiabetesPredictionSVM.ipynb\" target=\"_parent\"><img src=\"https://colab.research.google.com/assets/colab-badge.svg\" alt=\"Open In Colab\"/></a>"
      ]
    },
    {
      "cell_type": "code",
      "source": [
        "#basic libraries\n",
        "import pandas as pd\n",
        "import numpy as np\n",
        "#visualization\n",
        "import matplotlib.pyplot as plt\n",
        "import seaborn as sns\n",
        "#model + Evalution\n",
        "from sklearn.model_selection import train_test_split\n",
        "from sklearn.preprocessing import StandardScaler\n",
        "from sklearn.svm import SVC\n",
        "from sklearn.metrics import accuracy_score, confusion_matrix, classification_report\n"
      ],
      "metadata": {
        "id": "S96l68LwxhMB"
      },
      "execution_count": 13,
      "outputs": []
    },
    {
      "cell_type": "code",
      "execution_count": 14,
      "metadata": {
        "id": "0fmx8wjPqZkm"
      },
      "outputs": [],
      "source": [
        "#load dataset from Github\n",
        "\n",
        "url = \"https://raw.githubusercontent.com/avnishcodes/DiabetesPredictionSVM/main/diabetes_prediction_dataset.csv\"\n",
        "df = pd.read_csv(url)\n",
        "\n",
        "\n"
      ]
    },
    {
      "cell_type": "code",
      "source": [
        "#Check dataset info\n",
        "df.info()\n",
        "#check for missing values\n",
        "print(\"\\nMissing values:\\n\", df.isnull().sum())\n",
        "#check unique values in target column\n",
        "print(\"\\nTarget  column values:\\n\", df['diabetes'].value_counts())"
      ],
      "metadata": {
        "colab": {
          "base_uri": "https://localhost:8080/"
        },
        "id": "eHJUxzMmX5-B",
        "outputId": "27ee8e02-f841-4be0-db27-282df7101845"
      },
      "execution_count": 15,
      "outputs": [
        {
          "output_type": "stream",
          "name": "stdout",
          "text": [
            "<class 'pandas.core.frame.DataFrame'>\n",
            "RangeIndex: 100000 entries, 0 to 99999\n",
            "Data columns (total 9 columns):\n",
            " #   Column               Non-Null Count   Dtype  \n",
            "---  ------               --------------   -----  \n",
            " 0   gender               100000 non-null  object \n",
            " 1   age                  100000 non-null  float64\n",
            " 2   hypertension         100000 non-null  int64  \n",
            " 3   heart_disease        100000 non-null  int64  \n",
            " 4   smoking_history      100000 non-null  object \n",
            " 5   bmi                  100000 non-null  float64\n",
            " 6   HbA1c_level          100000 non-null  float64\n",
            " 7   blood_glucose_level  100000 non-null  int64  \n",
            " 8   diabetes             100000 non-null  int64  \n",
            "dtypes: float64(3), int64(4), object(2)\n",
            "memory usage: 6.9+ MB\n",
            "\n",
            "Missing values:\n",
            " gender                 0\n",
            "age                    0\n",
            "hypertension           0\n",
            "heart_disease          0\n",
            "smoking_history        0\n",
            "bmi                    0\n",
            "HbA1c_level            0\n",
            "blood_glucose_level    0\n",
            "diabetes               0\n",
            "dtype: int64\n",
            "\n",
            "Target  column values:\n",
            " diabetes\n",
            "0    91500\n",
            "1     8500\n",
            "Name: count, dtype: int64\n"
          ]
        }
      ]
    },
    {
      "cell_type": "code",
      "source": [
        "\n",
        "#one-hot encode categorical variables\n",
        "df_encoded = pd.get_dummies(df, drop_first=True)\n",
        "#split features and target\n",
        "X = df_encoded.drop('diabetes', axis=1)\n",
        "Y = df_encoded['diabetes']\n",
        "#Train-test split\n",
        "X_train, X_test, y_train, y_test = train_test_split(X, Y, test_size=0.2, random_state=42)\n",
        "#feature scaling (important for SVM)\n",
        "scaler = StandardScaler()\n",
        "X_train = scaler.fit_transform(X_train)\n",
        "X_test = scaler.transform(X_test)\n",
        "\n",
        "\n"
      ],
      "metadata": {
        "id": "nG-bsMJM05T7"
      },
      "execution_count": 17,
      "outputs": []
    },
    {
      "cell_type": "code",
      "source": [
        "# Train SVM model (default parameters)\n",
        "svm_model = SVC()\n",
        "svm_model.fit(X_train, y_train)\n",
        "#predict\n",
        "y_pred = svm_model.predict(X_test)\n",
        "#Evaluate\n",
        "print(\"Accuracy:\", accuracy_score(y_test, y_pred))\n",
        "print(\"\\nClassification Report:\\n\", classification_report(y_test, y_pred))\n",
        "#confusion matrix and specificity\n",
        "cm = confusion_matrix(y_test, y_pred)\n",
        "tn, fp, fn, tp = cm.ravel()\n",
        "specificity = tn / (tn + fp)\n",
        "print(\"Specificity:\", specificity)"
      ],
      "metadata": {
        "colab": {
          "base_uri": "https://localhost:8080/"
        },
        "id": "DBF0JOZP7UiR",
        "outputId": "22af1e3d-71ba-42b5-8c39-7eb3808b1b87"
      },
      "execution_count": 18,
      "outputs": [
        {
          "output_type": "stream",
          "name": "stdout",
          "text": [
            "Accuracy: 0.96135\n",
            "\n",
            "Classification Report:\n",
            "               precision    recall  f1-score   support\n",
            "\n",
            "           0       0.96      1.00      0.98     18292\n",
            "           1       0.97      0.56      0.71      1708\n",
            "\n",
            "    accuracy                           0.96     20000\n",
            "   macro avg       0.97      0.78      0.85     20000\n",
            "weighted avg       0.96      0.96      0.96     20000\n",
            "\n",
            "Specificity: 0.9985786136015744\n"
          ]
        }
      ]
    },
    {
      "cell_type": "code",
      "source": [
        "from sklearn.model_selection import RandomizedSearchCV\n",
        "from scipy.stats import uniform\n",
        "#define parameter distribution\n",
        "param_dist = {\n",
        "    'C' : uniform(0.1, 10),\n",
        "    'gamma' : uniform(0.01, 1),\n",
        "    'kernel' :['linear', 'rbf']\n",
        "}\n",
        "#create the random search object\n",
        "random_search = RandomizedSearchCV(\n",
        "   estimator=SVC(),\n",
        "   param_distributions=param_dist,\n",
        "   n_iter=10, cv=3,scoring='accuracy', verbose=1, random_state=42)\n",
        "#fit on training data\n",
        "X_sample = X_train[:5000]\n",
        "y_sample = y_train[:5000]\n",
        "\n",
        "random_search.fit(X_sample, y_sample)\n",
        "\n",
        "#best model or parameters\n",
        "best_model = random_search.best_estimator_\n",
        "print(\"Best Parameters:\", random_search.best_params_)\n",
        "#predict and evaluate\n",
        "y_pred = best_model.predict(X_test)\n",
        "print(\"Accuracy:\", accuracy_score(y_test, y_pred))\n",
        "print(\"\\nClassification Report:\\n\", classification_report(y_test, y_pred))\n",
        "#specificity\n",
        "cm_best = confusion_matrix(y_test, y_pred)\n",
        "tn, fp, fn, tp = cm_best.ravel()\n",
        "specificity_best = tn / (tn + fp)\n",
        "print(\"Specificity:\", specificity_best)\n"
      ],
      "metadata": {
        "colab": {
          "base_uri": "https://localhost:8080/"
        },
        "id": "nihR0zaPB2TQ",
        "outputId": "102f5579-8d3b-4e8d-82d3-ed05766c8fce"
      },
      "execution_count": 22,
      "outputs": [
        {
          "output_type": "stream",
          "name": "stdout",
          "text": [
            "Fitting 3 folds for each of 10 candidates, totalling 30 fits\n",
            "Best Parameters: {'C': np.float64(3.4370861113902182), 'gamma': np.float64(0.1528668179219408), 'kernel': 'linear'}\n",
            "Accuracy: 0.9589\n",
            "\n",
            "Classification Report:\n",
            "               precision    recall  f1-score   support\n",
            "\n",
            "           0       0.96      0.99      0.98     18292\n",
            "           1       0.89      0.59      0.71      1708\n",
            "\n",
            "    accuracy                           0.96     20000\n",
            "   macro avg       0.93      0.79      0.84     20000\n",
            "weighted avg       0.96      0.96      0.96     20000\n",
            "\n",
            "Specificity: 0.9929477367155041\n"
          ]
        }
      ]
    }
  ]
}